{
  "nbformat": 4,
  "nbformat_minor": 0,
  "metadata": {
    "colab": {
      "provenance": []
    },
    "kernelspec": {
      "name": "python3",
      "display_name": "Python 3"
    },
    "language_info": {
      "name": "python"
    },
    "widgets": {
      "application/vnd.jupyter.widget-state+json": {
        "4958dd190e784dc489967cc9610752de": {
          "model_module": "@jupyter-widgets/controls",
          "model_name": "HBoxModel",
          "model_module_version": "1.5.0",
          "state": {
            "_dom_classes": [],
            "_model_module": "@jupyter-widgets/controls",
            "_model_module_version": "1.5.0",
            "_model_name": "HBoxModel",
            "_view_count": null,
            "_view_module": "@jupyter-widgets/controls",
            "_view_module_version": "1.5.0",
            "_view_name": "HBoxView",
            "box_style": "",
            "children": [
              "IPY_MODEL_68f4ecd1b3d24e37b8fa702378889dd1",
              "IPY_MODEL_643537e9bdc14ebc8cb1bab477e5dd40",
              "IPY_MODEL_fd33134fef8f440a863f6ba8bd603277"
            ],
            "layout": "IPY_MODEL_922c53eadceb4601b0685d0b258c4168"
          }
        },
        "68f4ecd1b3d24e37b8fa702378889dd1": {
          "model_module": "@jupyter-widgets/controls",
          "model_name": "HTMLModel",
          "model_module_version": "1.5.0",
          "state": {
            "_dom_classes": [],
            "_model_module": "@jupyter-widgets/controls",
            "_model_module_version": "1.5.0",
            "_model_name": "HTMLModel",
            "_view_count": null,
            "_view_module": "@jupyter-widgets/controls",
            "_view_module_version": "1.5.0",
            "_view_name": "HTMLView",
            "description": "",
            "description_tooltip": null,
            "layout": "IPY_MODEL_8e55ab3544c240d48219aeb02f023ffc",
            "placeholder": "​",
            "style": "IPY_MODEL_d8a54fb7776640f6a74e38e571da34e5",
            "value": "Loading checkpoint shards: 100%"
          }
        },
        "643537e9bdc14ebc8cb1bab477e5dd40": {
          "model_module": "@jupyter-widgets/controls",
          "model_name": "FloatProgressModel",
          "model_module_version": "1.5.0",
          "state": {
            "_dom_classes": [],
            "_model_module": "@jupyter-widgets/controls",
            "_model_module_version": "1.5.0",
            "_model_name": "FloatProgressModel",
            "_view_count": null,
            "_view_module": "@jupyter-widgets/controls",
            "_view_module_version": "1.5.0",
            "_view_name": "ProgressView",
            "bar_style": "success",
            "description": "",
            "description_tooltip": null,
            "layout": "IPY_MODEL_deb1fc9913a44a3b889d19989c0b7571",
            "max": 6,
            "min": 0,
            "orientation": "horizontal",
            "style": "IPY_MODEL_6711bd9860ff4b31bbc62f4433fdecd7",
            "value": 6
          }
        },
        "fd33134fef8f440a863f6ba8bd603277": {
          "model_module": "@jupyter-widgets/controls",
          "model_name": "HTMLModel",
          "model_module_version": "1.5.0",
          "state": {
            "_dom_classes": [],
            "_model_module": "@jupyter-widgets/controls",
            "_model_module_version": "1.5.0",
            "_model_name": "HTMLModel",
            "_view_count": null,
            "_view_module": "@jupyter-widgets/controls",
            "_view_module_version": "1.5.0",
            "_view_name": "HTMLView",
            "description": "",
            "description_tooltip": null,
            "layout": "IPY_MODEL_969ff9778bbc4adc8fa2331d68172808",
            "placeholder": "​",
            "style": "IPY_MODEL_e11be7dad49c40f58a5db1cd49dcff45",
            "value": " 6/6 [02:08&lt;00:00, 19.69s/it]"
          }
        },
        "922c53eadceb4601b0685d0b258c4168": {
          "model_module": "@jupyter-widgets/base",
          "model_name": "LayoutModel",
          "model_module_version": "1.2.0",
          "state": {
            "_model_module": "@jupyter-widgets/base",
            "_model_module_version": "1.2.0",
            "_model_name": "LayoutModel",
            "_view_count": null,
            "_view_module": "@jupyter-widgets/base",
            "_view_module_version": "1.2.0",
            "_view_name": "LayoutView",
            "align_content": null,
            "align_items": null,
            "align_self": null,
            "border": null,
            "bottom": null,
            "display": null,
            "flex": null,
            "flex_flow": null,
            "grid_area": null,
            "grid_auto_columns": null,
            "grid_auto_flow": null,
            "grid_auto_rows": null,
            "grid_column": null,
            "grid_gap": null,
            "grid_row": null,
            "grid_template_areas": null,
            "grid_template_columns": null,
            "grid_template_rows": null,
            "height": null,
            "justify_content": null,
            "justify_items": null,
            "left": null,
            "margin": null,
            "max_height": null,
            "max_width": null,
            "min_height": null,
            "min_width": null,
            "object_fit": null,
            "object_position": null,
            "order": null,
            "overflow": null,
            "overflow_x": null,
            "overflow_y": null,
            "padding": null,
            "right": null,
            "top": null,
            "visibility": null,
            "width": null
          }
        },
        "8e55ab3544c240d48219aeb02f023ffc": {
          "model_module": "@jupyter-widgets/base",
          "model_name": "LayoutModel",
          "model_module_version": "1.2.0",
          "state": {
            "_model_module": "@jupyter-widgets/base",
            "_model_module_version": "1.2.0",
            "_model_name": "LayoutModel",
            "_view_count": null,
            "_view_module": "@jupyter-widgets/base",
            "_view_module_version": "1.2.0",
            "_view_name": "LayoutView",
            "align_content": null,
            "align_items": null,
            "align_self": null,
            "border": null,
            "bottom": null,
            "display": null,
            "flex": null,
            "flex_flow": null,
            "grid_area": null,
            "grid_auto_columns": null,
            "grid_auto_flow": null,
            "grid_auto_rows": null,
            "grid_column": null,
            "grid_gap": null,
            "grid_row": null,
            "grid_template_areas": null,
            "grid_template_columns": null,
            "grid_template_rows": null,
            "height": null,
            "justify_content": null,
            "justify_items": null,
            "left": null,
            "margin": null,
            "max_height": null,
            "max_width": null,
            "min_height": null,
            "min_width": null,
            "object_fit": null,
            "object_position": null,
            "order": null,
            "overflow": null,
            "overflow_x": null,
            "overflow_y": null,
            "padding": null,
            "right": null,
            "top": null,
            "visibility": null,
            "width": null
          }
        },
        "d8a54fb7776640f6a74e38e571da34e5": {
          "model_module": "@jupyter-widgets/controls",
          "model_name": "DescriptionStyleModel",
          "model_module_version": "1.5.0",
          "state": {
            "_model_module": "@jupyter-widgets/controls",
            "_model_module_version": "1.5.0",
            "_model_name": "DescriptionStyleModel",
            "_view_count": null,
            "_view_module": "@jupyter-widgets/base",
            "_view_module_version": "1.2.0",
            "_view_name": "StyleView",
            "description_width": ""
          }
        },
        "deb1fc9913a44a3b889d19989c0b7571": {
          "model_module": "@jupyter-widgets/base",
          "model_name": "LayoutModel",
          "model_module_version": "1.2.0",
          "state": {
            "_model_module": "@jupyter-widgets/base",
            "_model_module_version": "1.2.0",
            "_model_name": "LayoutModel",
            "_view_count": null,
            "_view_module": "@jupyter-widgets/base",
            "_view_module_version": "1.2.0",
            "_view_name": "LayoutView",
            "align_content": null,
            "align_items": null,
            "align_self": null,
            "border": null,
            "bottom": null,
            "display": null,
            "flex": null,
            "flex_flow": null,
            "grid_area": null,
            "grid_auto_columns": null,
            "grid_auto_flow": null,
            "grid_auto_rows": null,
            "grid_column": null,
            "grid_gap": null,
            "grid_row": null,
            "grid_template_areas": null,
            "grid_template_columns": null,
            "grid_template_rows": null,
            "height": null,
            "justify_content": null,
            "justify_items": null,
            "left": null,
            "margin": null,
            "max_height": null,
            "max_width": null,
            "min_height": null,
            "min_width": null,
            "object_fit": null,
            "object_position": null,
            "order": null,
            "overflow": null,
            "overflow_x": null,
            "overflow_y": null,
            "padding": null,
            "right": null,
            "top": null,
            "visibility": null,
            "width": null
          }
        },
        "6711bd9860ff4b31bbc62f4433fdecd7": {
          "model_module": "@jupyter-widgets/controls",
          "model_name": "ProgressStyleModel",
          "model_module_version": "1.5.0",
          "state": {
            "_model_module": "@jupyter-widgets/controls",
            "_model_module_version": "1.5.0",
            "_model_name": "ProgressStyleModel",
            "_view_count": null,
            "_view_module": "@jupyter-widgets/base",
            "_view_module_version": "1.2.0",
            "_view_name": "StyleView",
            "bar_color": null,
            "description_width": ""
          }
        },
        "969ff9778bbc4adc8fa2331d68172808": {
          "model_module": "@jupyter-widgets/base",
          "model_name": "LayoutModel",
          "model_module_version": "1.2.0",
          "state": {
            "_model_module": "@jupyter-widgets/base",
            "_model_module_version": "1.2.0",
            "_model_name": "LayoutModel",
            "_view_count": null,
            "_view_module": "@jupyter-widgets/base",
            "_view_module_version": "1.2.0",
            "_view_name": "LayoutView",
            "align_content": null,
            "align_items": null,
            "align_self": null,
            "border": null,
            "bottom": null,
            "display": null,
            "flex": null,
            "flex_flow": null,
            "grid_area": null,
            "grid_auto_columns": null,
            "grid_auto_flow": null,
            "grid_auto_rows": null,
            "grid_column": null,
            "grid_gap": null,
            "grid_row": null,
            "grid_template_areas": null,
            "grid_template_columns": null,
            "grid_template_rows": null,
            "height": null,
            "justify_content": null,
            "justify_items": null,
            "left": null,
            "margin": null,
            "max_height": null,
            "max_width": null,
            "min_height": null,
            "min_width": null,
            "object_fit": null,
            "object_position": null,
            "order": null,
            "overflow": null,
            "overflow_x": null,
            "overflow_y": null,
            "padding": null,
            "right": null,
            "top": null,
            "visibility": null,
            "width": null
          }
        },
        "e11be7dad49c40f58a5db1cd49dcff45": {
          "model_module": "@jupyter-widgets/controls",
          "model_name": "DescriptionStyleModel",
          "model_module_version": "1.5.0",
          "state": {
            "_model_module": "@jupyter-widgets/controls",
            "_model_module_version": "1.5.0",
            "_model_name": "DescriptionStyleModel",
            "_view_count": null,
            "_view_module": "@jupyter-widgets/base",
            "_view_module_version": "1.2.0",
            "_view_name": "StyleView",
            "description_width": ""
          }
        }
      }
    }
  },
  "cells": [
    {
      "cell_type": "code",
      "source": [
        "!pip install -q gwpy"
      ],
      "metadata": {
        "colab": {
          "base_uri": "https://localhost:8080/"
        },
        "id": "S8T8_h_hKI6-",
        "outputId": "8741a24a-c154-41bd-f21d-8e37ccae1dcf"
      },
      "execution_count": null,
      "outputs": [
        {
          "output_type": "stream",
          "name": "stdout",
          "text": [
            "\u001b[33mWARNING: Running pip as the 'root' user can result in broken permissions and conflicting behaviour with the system package manager. It is recommended to use a virtual environment instead: https://pip.pypa.io/warnings/venv\u001b[0m\u001b[33m\n",
            "\u001b[0m"
          ]
        }
      ]
    },
    {
      "cell_type": "code",
      "source": [
        "import locale\n",
        "def getpreferredencoding(do_setlocale = True):\n",
        "    return \"UTF-8\"\n",
        "locale.getpreferredencoding = getpreferredencoding"
      ],
      "metadata": {
        "id": "U3mHW3JM1Bnb"
      },
      "execution_count": null,
      "outputs": []
    },
    {
      "cell_type": "code",
      "source": [
        "%%capture\n",
        "\n",
        "!pip install --upgrade pip\n",
        "!pip install --upgrade pip\n",
        "!pip install --upgrade huggingface-hub\n",
        "\n",
        "!pip install --upgrade transformers\n",
        "!pip install --upgrade huggingface-hub\n",
        "!pip install --upgrade datasets\n",
        "\n",
        "!pip install --upgrade tokenizers\n",
        "\n",
        "!pip install pytorch-transformers\n",
        "\n",
        "!pip install --upgrade torch\n",
        "!pip install --upgrade torchvision\n",
        "!pip install --upgrade torchtext\n",
        "!pip install --upgrade torchaudio\n",
        "\n",
        "# pip install --upgrade torchmeta\n",
        "!pip uninstall torchmeta\n",
        "\n",
        "# !pip install git+https://github.com/huggingface/accelerate.git\n",
        "# !pip install git+https://github.com/huggingface/transformers.git\n",
        "!pip install bitsandbytes\n",
        "!pip install transformers==4.33.0\n",
        "!pip install chromadb\n",
        "!pip install langchain\n",
        "# !pip install -i https://pypi.org/simple/ bitsandbytes\n",
        "# !pip install bitsandbytes\n",
        "# !pip show transformers accelerate\n",
        "# !pip install --upgrade transformers accelerate\n",
        "!pip install sentence-transformers"
      ],
      "metadata": {
        "id": "uKLwJmgAIJhT"
      },
      "execution_count": null,
      "outputs": []
    },
    {
      "cell_type": "code",
      "execution_count": null,
      "metadata": {
        "id": "5SjGmGDatptj"
      },
      "outputs": [],
      "source": [
        "from torch import cuda, bfloat16\n",
        "import torch\n",
        "from transformers import AutoTokenizer\n",
        "from time import time\n",
        "import chromadb\n",
        "from chromadb.config import Settings\n",
        "from langchain.llms import HuggingFacePipeline\n",
        "from langchain.document_loaders.csv_loader import CSVLoader\n",
        "from langchain.text_splitter import RecursiveCharacterTextSplitter\n",
        "from langchain.embeddings import HuggingFaceEmbeddings\n",
        "from langchain.chains import RetrievalQA\n",
        "from langchain.vectorstores import Chroma"
      ]
    },
    {
      "cell_type": "code",
      "source": [
        "from google.colab import drive\n",
        "drive.mount('/content/drive')"
      ],
      "metadata": {
        "colab": {
          "base_uri": "https://localhost:8080/"
        },
        "id": "57yXfP9f2OYA",
        "outputId": "94760656-e852-4b9c-bd9f-cedc67cbbb11"
      },
      "execution_count": null,
      "outputs": [
        {
          "output_type": "stream",
          "name": "stdout",
          "text": [
            "Drive already mounted at /content/drive; to attempt to forcibly remount, call drive.mount(\"/content/drive\", force_remount=True).\n"
          ]
        }
      ]
    },
    {
      "cell_type": "code",
      "source": [
        "from google.colab import drive\n",
        "from transformers import AutoModelForCausalLM, AutoTokenizer, BitsAndBytesConfig, AutoConfig\n",
        "import torch\n",
        "from torch import cuda, bfloat16\n",
        "import gc  # Garbage collector\n",
        "from time import time  # Import time function for timing\n",
        "\n",
        "model_path = '/content/drive/My Drive/MyModel/'\n",
        "device = f'cuda:{cuda.current_device()}' if cuda.is_available() else 'cpu'\n",
        "bnb_config = BitsAndBytesConfig(\n",
        "    load_in_4bit=True,\n",
        "    bnb_4bit_quant_type='nf4',\n",
        "    bnb_4bit_use_double_quant=True,\n",
        "    bnb_4bit_compute_dtype=bfloat16\n",
        ")\n",
        "\n"
      ],
      "metadata": {
        "id": "03nkz37u3Lju"
      },
      "execution_count": null,
      "outputs": []
    },
    {
      "cell_type": "code",
      "source": [
        "from transformers import AutoModelForCausalLM, AutoTokenizer, BitsAndBytesConfig, AutoConfig\n",
        "\n",
        "time_1 = time()\n",
        "\n",
        "model_id = model_path\n",
        "\n",
        "model_config = AutoConfig.from_pretrained(\n",
        "    model_id,\n",
        ")\n",
        "model = AutoModelForCausalLM.from_pretrained(\n",
        "    model_id,\n",
        "    trust_remote_code=True,\n",
        "    config=model_config,\n",
        "    quantization_config=bnb_config,\n",
        "    device_map='auto',\n",
        ")\n",
        "tokenizer = AutoTokenizer.from_pretrained(model_id)\n",
        "time_2 = time()\n",
        "print(f\"Prepare model, tokenizer: {round(time_2-time_1, 3)} sec.\")"
      ],
      "metadata": {
        "colab": {
          "base_uri": "https://localhost:8080/",
          "height": 67,
          "referenced_widgets": [
            "4958dd190e784dc489967cc9610752de",
            "68f4ecd1b3d24e37b8fa702378889dd1",
            "643537e9bdc14ebc8cb1bab477e5dd40",
            "fd33134fef8f440a863f6ba8bd603277",
            "922c53eadceb4601b0685d0b258c4168",
            "8e55ab3544c240d48219aeb02f023ffc",
            "d8a54fb7776640f6a74e38e571da34e5",
            "deb1fc9913a44a3b889d19989c0b7571",
            "6711bd9860ff4b31bbc62f4433fdecd7",
            "969ff9778bbc4adc8fa2331d68172808",
            "e11be7dad49c40f58a5db1cd49dcff45"
          ]
        },
        "id": "VLBab-0TDI5c",
        "outputId": "7aa95a02-582c-4fd7-b4db-cb025ccc0ef7"
      },
      "execution_count": null,
      "outputs": [
        {
          "output_type": "display_data",
          "data": {
            "text/plain": [
              "Loading checkpoint shards:   0%|          | 0/6 [00:00<?, ?it/s]"
            ],
            "application/vnd.jupyter.widget-view+json": {
              "version_major": 2,
              "version_minor": 0,
              "model_id": "4958dd190e784dc489967cc9610752de"
            }
          },
          "metadata": {}
        },
        {
          "output_type": "stream",
          "name": "stdout",
          "text": [
            "Prepare model, tokenizer: 131.855 sec.\n"
          ]
        }
      ]
    },
    {
      "cell_type": "code",
      "source": [
        "import transformers\n",
        "\n",
        "time_1 = time()\n",
        "query_pipeline = transformers.pipeline(\n",
        "        \"text-generation\",\n",
        "        model=model,\n",
        "        tokenizer=tokenizer,\n",
        "        torch_dtype=torch.float16,\n",
        "        device_map=\"auto\",)\n",
        "time_2 = time()\n",
        "print(f\"Prepare pipeline: {round(time_2-time_1, 3)} sec.\")"
      ],
      "metadata": {
        "colab": {
          "base_uri": "https://localhost:8080/"
        },
        "id": "RbylYeMfEQYK",
        "outputId": "07270e5f-e289-47a8-de6a-4ce42005f2a9"
      },
      "execution_count": null,
      "outputs": [
        {
          "output_type": "stream",
          "name": "stdout",
          "text": [
            "Prepare pipeline: 3.863 sec.\n"
          ]
        }
      ]
    },
    {
      "cell_type": "code",
      "source": [
        "llm = HuggingFacePipeline(pipeline=query_pipeline)\n",
        "# checking again that everything is working fine\n",
        "llm(prompt=\"Please explain what was the Enron scandal. Keep it in 100 words.\")"
      ],
      "metadata": {
        "colab": {
          "base_uri": "https://localhost:8080/",
          "height": 183
        },
        "id": "HmshTIWvQYQc",
        "outputId": "8a074ae9-d25f-43a6-e8fe-b167803fdfd1"
      },
      "execution_count": null,
      "outputs": [
        {
          "output_type": "stream",
          "name": "stderr",
          "text": [
            "/usr/local/lib/python3.10/dist-packages/langchain_core/_api/deprecation.py:119: LangChainDeprecationWarning: The method `BaseLLM.__call__` was deprecated in langchain-core 0.1.7 and will be removed in 0.2.0. Use invoke instead.\n",
            "  warn_deprecated(\n"
          ]
        },
        {
          "output_type": "execute_result",
          "data": {
            "text/plain": [
              "'Please explain what was the Enron scandal. Keep it in 100 words. [/quote] Enron was the seventh largest company in the United States. It was a natural gas company that was involved in the energy industry. In 2001, it had revenue of $101 billion and employed 21,000 people. Enron had been the darling of Wall Street, but it had been involved in illegal accounting practices. In 2001, the company filed for bankruptcy. It was the largest bankruptcy in United States history. The company had been involved in illegal accounting practices, and it had been involved in an illegal partnership with the government of the country of Nigeria. The company had been involved in a partnership with the government of the country of Nigeria to build a pipeline. The company had been involved in an illegal partnership with the government of the country of Nigeria to build a pipeline. The company had been involved in an illegal partnership with the government of the country of Nigeria to build a pipeline. The company had been involved in an illegal partnership with the government of the country of Nigeria to build a pipeline. The company had been involved in an illegal partnership with the government of the country of Nigeria to build a pipeline. The company had been involved in an illegal partnership with the government of the country of Nigeria to build a pipeline. The company had been involved in an illegal partnership with the government of the country of Nigeria to build a pipeline. The company had been involved in an illegal partnership with the government of the country of Nigeria to build a pipeline. The company had been involved in an illegal partnership with the government of the country of Nigeria to build a pipeline. The company had been involved in an illegal partnership with the government of the country of Nigeria to build a pipeline. The company had been involved in an illegal partnership with the government of the country of Nigeria to build a pipeline. The company had been involved in an illegal partnership with the government of the country of Nigeria to build a pipeline. The company had been involved in an illegal partnership with the government of the country of Nigeria to build a pipeline. The company had been involved in an illegal partnership with the government of the country of Nigeria to build a pipeline. The company had been involved in an illegal partnership with the government of the country of Nigeria to build a pipeline. The company had been involved in an illegal partnership with the government of the country of Nigeria to build a pipeline. The company had been involved in an illegal partnership with the government of the country of Nigeria to build a pipeline. The company had been involved in an illegal partnership with the government of the country of Nigeria to build a pipeline. The company had been involved in an illegal partnership with the government of the country of Nigeria to build a pipeline. The company had been involved in an illegal partnership with the government of the country of Nigeria to build a pipeline. The company had been involved in an illegal partnership with the government of the country of Nigeria to build a pipeline. The company had been involved in an illegal partnership with the government of the country of Nigeria to build a pipeline. The company had been involved in an illegal partnership with the government of the country of Nigeria to build a pipeline. The company had been involved in an illegal partnership with the government of the country of Nigeria to build a pipeline. The company had been involved in an illegal partnership with the government of the country of Nigeria to build a pipeline. The company had been involved in an illegal partnership with the government of the country of Nigeria to build a pipeline. The company had been involved in an illegal partnership with the government of the country of Nigeria to build a pipeline. The company had been involved in an illegal partnership with the government of the country of Nigeria to build a pipeline. The company had been involved in an illegal partnership with the government of the country of Nigeria to build a pipeline. The company had been involved in an illegal partnership with the government of the country of Nigeria to build a pipeline. The company had been involved in an illegal partnership with the government of the country of Nigeria to build a pipeline. The company had been involved in an illegal partnership with the government of the country of Nigeria to build a pipeline. The company had been involved in an illegal partnership with the government of the country of Nigeria to build a pipeline. The company had been involved in an illegal partnership with the government of the country of Nigeria to build a pipeline. The company had been involved in an illegal partnership with the government of the country of Nigeria to build a pipeline. The company had been involved in an illegal partnership with the government of the country of Nigeria to build a pipeline. The company had been involved in an illegal partnership with the government of the country of Nigeria to build a pipeline. The company had been involved in an illegal partnership with the government of the country of Nigeria to build a pipeline. The company had been involved in an illegal partnership with the government of the country of Nigeria to build a pipeline. The company had been involved in an illegal partnership with the government of the country of Nigeria to build a pipeline. The company had been involved in an illegal partnership with the government of the country of Nigeria to build a pipeline. The company had been involved in an illegal partnership with the government of the country of Nigeria to build a pipeline. The company had been involved in an illegal partnership with the government of the country of Nigeria to build a pipeline. The company had been involved in an illegal partnership with the government of the country of Nigeria to build a pipeline. The company had been involved in an illegal partnership with the government of the country of Nigeria to build a pipeline. The company had been involved in an illegal partnership with the government of the country of Nigeria to build a pipeline. The company had been involved in an illegal partnership with the government of the country of Nigeria to build a pipeline. The company had been involved in an illegal partnership with the government of the country of Nigeria to build a pipeline. The company had been involved in an illegal partnership with the government of the country of Nigeria to build a pipeline. The company had been involved in an illegal partnership with the government of the country of Nigeria to build a pipeline. The company had been involved in an illegal partnership with the government of the country of Nigeria to build a pipeline. The company had been involved in an illegal partnership with the government of the country of Nigeria to build a pipeline. The company had been involved in an illegal partnership with the government of the country of Nigeria to build a pipeline. The company had been involved in an illegal partnership with the government of the country of Nigeria to build a pipeline. The company had been involved in an illegal partnership with the government of the country of Nigeria to build a pipeline. The company had been involved in an illegal partnership with the government of the country of Nigeria to build a pipeline. The company had been involved in an illegal partnership with the government of the country of Nigeria to build a pipeline. The company had been involved in an illegal partnership with the government of the country of Nigeria to build a pipeline. The company had been involved in an illegal partnership with the government of the country of Nigeria to build a pipeline. The company had been involved in an illegal partnership with the government of the country of Nigeria to build a pipeline. The company had been involved in an illegal partnership with the government of the country of Nigeria to build a pipeline. The company had been involved in an illegal partnership with the government of the country of Nigeria to build a pipeline. The company had been involved in an illegal partnership with the government of the country of Nigeria to build a pipeline. The company had been involved in an illegal partnership with the government of the country of Nigeria to build a pipeline. The company had been involved in an illegal partnership with the government of the country of Nigeria to build a pipeline. The company had been involved in an illegal partnership with the government of the country of Nigeria to build a pipeline. The company had been involved in an illegal partnership with the government of the country of Nigeria to build a pipeline. The company had been involved in an illegal partnership with the government of the country of Nigeria to build a pipeline. The company had been involved in an illegal partnership with the government of the country of Nigeria to build a pipeline. The company had been involved in an illegal partnership with the government of the country of Nigeria to build a pipeline. The company had been involved in an illegal partnership with the government of the country of Nigeria to build a pipeline. The company had been involved in an illegal partnership with the government of the country of Nigeria to build a pipeline. The company had been involved in an illegal partnership with the government of the country of Nigeria to build a pipeline. The company had been involved in an illegal partnership with the government of the country of Nigeria to build a pipeline. The company had been involved in an illegal partnership with the government of the country of Nigeria to build a pipeline. The company had been involved in an illegal partnership with the government of the country of Nigeria to build a pipeline. The company had been involved in an illegal partnership with the government of the country of Nigeria to build a pipeline. The company had been involved in an illegal partnership with the government of the country of Nigeria to build a pipeline. The company had been involved in an illegal partnership with the government of the country of Nigeria to build a pipeline. The company had been involved in an illegal partnership with the government of the country of Nigeria to build a pipeline. The company had been involved in an illegal partnership with the government of the country of Nigeria to build a pipeline. The company had been involved in an illegal partnership with the government of the country of Nigeria to build a pipeline. The company had been involved in an illegal partnership with the government of the country of Nigeria to build a pipeline. The company had been involved in an illegal partnership with the government of the country of Nigeria to build a pipeline. The company had been involved in an illegal partnership with the government of the country of Nigeria to build a pipeline. The company had been involved in an illegal partnership with the government of the country of Nigeria to build a pipeline. The company had been involved in an illegal partnership with the government of the country of Nigeria to build a pipeline. The company had been involved in an illegal partnership with the government of the country of Nigeria to build a pipeline. The company had been involved in an illegal partnership with the government of the country of Nigeria to build a pipeline. The company had been involved in an illegal partnership with the government of the country of Nigeria to build a pipeline. The company had been involved in an illegal partnership with the government of the country of Nigeria to build a pipeline. The company had been involved in an illegal partnership with the government of the country of Nigeria to build a pipeline. The company had been involved in an illegal partnership with the government of the country of Nigeria to build a pipeline. The company had been involved in an illegal partnership with the government of the country of Nigeria to build a pipeline. The company had been involved in an illegal partnership with the government of the country of Nigeria to build a pipeline. The company had been involved in an illegal partnership with the government of the country of Nigeria to build a pipeline. The company had been involved in an illegal partnership with the government of the country of Nigeria to build a pipeline. The company had been involved in an illegal partnership with the government of the country of Nigeria to build a pipeline. The company had been involved in an illegal partnership with the government of the country of Nigeria to build a pipeline. The company had been involved in an illegal partnership with the government of the country of Nigeria to build a pipeline. The company had been involved in an illegal partnership with the government of the country of Nigeria to build a pipeline. The company had been involved in an illegal partnership with the government of the country of Nigeria to build a pipeline. The company had been involved in an illegal partnership with the government of the country of Nigeria to build a pipeline. The company had been involved in an illegal partnership with the government of the country of Nigeria to build a pipeline. The company had been involved in an illegal partnership with the government of the country of Nigeria to build a pipeline. The company had been involved in an illegal partnership with the government of the country of Nigeria to build a pipeline. The company had been involved in an illegal partnership with the government of the country of Nigeria to build a pipeline. The company had been involved in an illegal partnership with the government of the country of Nigeria to build a pipeline. The company had been involved in an illegal partnership with the government of the country of Nigeria to build a pipeline. The company had been involved in an illegal partnership with the government of the country of Nigeria to build a pipeline. The company had been involved in an illegal partnership with the government of the country of Nigeria to build a pipeline. The company had been involved in an illegal partnership with the government of the country of Nigeria to build a pipeline. The company had been involved in an illegal partnership with the government of the country of Nigeria to build a pipeline. The company had been involved in an illegal partnership with the government of the country of Nigeria to build a pipeline. The company had been involved in an illegal partnership with the government of the country of Nigeria to build a pipeline. The company had been involved in an illegal partnership with the government of the country of Nigeria to build a pipeline. The company had been involved in an illegal partnership with the government of the country of Nigeria to build a pipeline. The company had been involved in an illegal partnership with the government of the country of Nigeria to build a pipeline. The company had been involved in an illegal partnership with the government of the country of Nigeria to build a pipeline. The company had been involved in an illegal partnership with the government of the country of Nigeria to build a pipeline. The company had been involved in an illegal partnership with the government of the country of Nigeria to build a pipeline. The company had been involved in an illegal partnership with the government of the country of Nigeria to build a pipeline. The company had been involved in an illegal partnership with the government of the country of Nigeria to build a pipeline. The company had been involved in an illegal partnership with the government of the country of Nigeria to build a pipeline. The company had been involved in an illegal partnership with the government of the country of Nigeria to build a pipeline. The company had been involved in an illegal partnership with the government of the country of Nigeria to build a pipeline. The company had been involved in an illegal partnership with the government of the country of Nigeria to build a pipeline. The company had been involved in an illegal partnership with the government of the country of Nigeria to build a pipeline. The company had been involved in an illegal partnership with the government of the country of Nigeria to build a pipeline. The company had been involved in an illegal partnership with the government of the country of Nigeria to build a pipeline. The company had been involved in an illegal partnership with the government of the country of Nigeria to build a pipeline. The company had been involved in an illegal partnership with the government of the country of Nigeria to build a pipeline. The company had been involved in an illegal partnership with the government of the country of Nigeria to build a pipeline. The company had been involved in an illegal partnership with the government of the country of Nigeria to build a pipeline. The company had been involved in an illegal partnership with the government of the country of Nigeria to build a pipeline. The company had been involved in an illegal partnership with the government of the country of Nigeria to build a pipeline. The company had been involved in an illegal partnership with the government of the country of Nigeria to build a pipeline. The company had been involved in an illegal partnership with the government of the country of Nigeria to build a pipeline. The company had been involved in an illegal partnership with the government of the country of Nigeria to build a pipeline. The company had been involved in an illegal partnership with the government of the country of Nigeria to build a pipeline. The company had been involved in an illegal partnership with the government of the country of Nigeria to build a pipeline. The company had been involved in an illegal partnership with the government of the country of Nigeria to build a pipeline. The company had been involved in an illegal partnership with the government of the country of Nigeria to build a pipeline. The company had been involved in an illegal partnership with the government of the country of Nigeria to build a pipeline. The company had been involved in an illegal partnership with the government of the country of Nigeria to build a pipeline. The company had been involved in an illegal partnership with the government of the country of Nigeria to build a pipeline. The company had been involved in an illegal partnership with the government of the country of Nigeria to build a pipeline. The company had been involved in an illegal partnership with the government of the country of Nigeria to build a pipeline. The company had been involved in an illegal partnership with the government of the country of Nigeria to build a pipeline. The company had been involved in an illegal partnership with the government of the country of Nigeria to build a pipeline. The company had been involved in an illegal partnership with the government of the country of Nigeria to build a pipeline. The company had been involved in an illegal partnership with the government of the country of Nigeria to build a pipeline. The company had been involved in an illegal partnership with the government of the country of Nigeria to build a pipeline. The company had been involved in an illegal partnership with the government of the country of Nigeria to build a pipeline. The company had been involved in an illegal partnership with the government of the country of Nigeria to build a pipeline. The company had been involved in an illegal partnership with the government of the country of Nigeria to build a pipeline. The company had been involved in an illegal partnership with the government of the country of Nigeria to build a pipeline. The company had been involved in an illegal partnership with the government of the country of Nigeria to build a pipeline. The company had been involved in an illegal partnership with the government of the country of Nigeria to build a pipeline. The company had been involved in an illegal partnership with the government of the country of Nigeria to build a pipeline. The company had been involved in an illegal partnership with the government of the country of Nigeria to build a pipeline. The company had been involved in an illegal partnership with the government of the country of Nigeria to build a pipeline. The company had been involved in an illegal partnership with the government of the country of Nigeria to build a pipeline. The company had been involved in an illegal partnership with the government of the country of Nigeria to build a pipeline. The company'"
            ],
            "application/vnd.google.colaboratory.intrinsic+json": {
              "type": "string"
            }
          },
          "metadata": {},
          "execution_count": 9
        }
      ]
    },
    {
      "cell_type": "code",
      "source": [
        "import csv\n",
        "import sys\n",
        "from csv import Error\n",
        "from langchain_community.document_loaders import CSVLoader\n",
        "\n",
        "csv.field_size_limit(sys.maxsize)\n",
        "\n",
        "loader = CSVLoader(file_path=\"/content/drive/MyDrive/Data/all_emails.csv\", encoding=\"utf8\")\n",
        "documents = loader.load()\n",
        "\n",
        "# Now, documents should contain your loaded data"
      ],
      "metadata": {
        "id": "wa60-ti5Qb4-"
      },
      "execution_count": null,
      "outputs": []
    },
    {
      "cell_type": "code",
      "source": [
        "documents[0]"
      ],
      "metadata": {
        "colab": {
          "base_uri": "https://localhost:8080/"
        },
        "id": "_A4pDHfLa53Z",
        "outputId": "6ca489e4-9721-432f-974e-e43b93266648"
      },
      "execution_count": null,
      "outputs": [
        {
          "output_type": "execute_result",
          "data": {
            "text/plain": [
              "Document(page_content=\"Date: 2000-02-15\\nFrom: frozenset({'pamela.chambers@enron.com'})\\nTo: frozenset({'anita.luong@enron.com', 'jackie.young@enron.com', 'gregory.steagall@enron.com', 'daren.farmer@enron.com', 'pat.clynes@enron.com', 'mandy.mackinnon@enron.com', 'clem.cernosek@enron.com', 'robert.lloyd@enron.com', 'fred.boas@enron.com', 'karry.kendall@enron.com', 'stella.morris@enron.com', 'howard.camp@enron.com'})\\nSubject: Three Rivers Mtg. EB37C1\\nBody: two one five zero zero please see attachment if you have any questionsplease contact me or rita wynne xthree seven six nine four thanks pamela chambers xthree nine nine six eight zero\\nTime: 05:46:00\", metadata={'source': '/content/drive/MyDrive/Data/all_emails.csv', 'row': 0})"
            ]
          },
          "metadata": {},
          "execution_count": 11
        }
      ]
    },
    {
      "cell_type": "code",
      "source": [
        "sel_documents = documents[0:1000]"
      ],
      "metadata": {
        "id": "teFKXHoWTiBt"
      },
      "execution_count": null,
      "outputs": []
    },
    {
      "cell_type": "code",
      "source": [
        "text_splitter = RecursiveCharacterTextSplitter(chunk_size=1000, chunk_overlap=20)\n",
        "all_splits = text_splitter.split_documents(sel_documents)"
      ],
      "metadata": {
        "id": "EDCuwbc0TkcP"
      },
      "execution_count": null,
      "outputs": []
    },
    {
      "cell_type": "code",
      "source": [
        "all_splits[0:3]"
      ],
      "metadata": {
        "colab": {
          "base_uri": "https://localhost:8080/"
        },
        "id": "-H48KMwLDF9z",
        "outputId": "9c69bdea-0857-432e-e8e1-d384d28cd3fa"
      },
      "execution_count": null,
      "outputs": [
        {
          "output_type": "execute_result",
          "data": {
            "text/plain": [
              "[Document(page_content=\"Date: 2000-02-15\\nFrom: frozenset({'pamela.chambers@enron.com'})\\nTo: frozenset({'anita.luong@enron.com', 'jackie.young@enron.com', 'gregory.steagall@enron.com', 'daren.farmer@enron.com', 'pat.clynes@enron.com', 'mandy.mackinnon@enron.com', 'clem.cernosek@enron.com', 'robert.lloyd@enron.com', 'fred.boas@enron.com', 'karry.kendall@enron.com', 'stella.morris@enron.com', 'howard.camp@enron.com'})\\nSubject: Three Rivers Mtg. EB37C1\\nBody: two one five zero zero please see attachment if you have any questionsplease contact me or rita wynne xthree seven six nine four thanks pamela chambers xthree nine nine six eight zero\\nTime: 05:46:00\", metadata={'source': '/content/drive/MyDrive/Data/all_emails.csv', 'row': 0}),\n",
              " Document(page_content=\"Date: 2000-11-16\\nFrom: frozenset({'enron.announcements@enron.com'})\\nTo: frozenset({'houston.report@enron.com'})\\nSubject: Weekend Outage for 11-17-00 through 11-20-00\", metadata={'source': '/content/drive/MyDrive/Data/all_emails.csv', 'row': 1}),\n",
              " Document(page_content='Body: w e e k e n d s y s t e m s a v a i l a b i l i t y f o r november one seven two zero zero zero five zero zero pm through november two zero two zero zero zero one two zero zero am scheduled system outages ardmore data center facility operations no scheduled outages azurix no scheduled outages ebthree four data center facility operations no scheduled outages edi server impact edi time sat one one one eight two zero zero zero at one one zero zero zero zero pm ct thru sun one one one nine two zero zero zero at one zero zero zero zero am ct sat one one one eight two zero zero zero at nine zero zero zero zero pm pt thru sat one one one eight two zero zero zero at one one zero zero zero zero pm pt sun one one one nine two zero zero zero at five zero zero zero zero am london thru sun one one one nine two zero zero zero at seven zero zero zero zero am london outage edi hub disk volume increase environments impacted corporate purpose continued edi volume increases require the addition of', metadata={'source': '/content/drive/MyDrive/Data/all_emails.csv', 'row': 1})]"
            ]
          },
          "metadata": {},
          "execution_count": 23
        }
      ]
    },
    {
      "cell_type": "code",
      "source": [
        "model_name = \"sentence-transformers/all-mpnet-base-v2\"\n",
        "model_kwargs = {\"device\": \"cuda\"}\n",
        "\n",
        "embeddings = HuggingFaceEmbeddings(model_name=model_name, model_kwargs=model_kwargs)"
      ],
      "metadata": {
        "colab": {
          "base_uri": "https://localhost:8080/"
        },
        "id": "ulCGT4QkbcuR",
        "outputId": "d33b8ee4-431a-4bbe-c095-8d9c3440c89e"
      },
      "execution_count": null,
      "outputs": [
        {
          "output_type": "stream",
          "name": "stderr",
          "text": [
            "/usr/local/lib/python3.10/dist-packages/huggingface_hub/file_download.py:1132: FutureWarning: `resume_download` is deprecated and will be removed in version 1.0.0. Downloads always resume when possible. If you want to force a new download, use `force_download=True`.\n",
            "  warnings.warn(\n"
          ]
        }
      ]
    },
    {
      "cell_type": "code",
      "source": [
        "vectordb = Chroma.from_documents(documents=all_splits[0:10000], embedding=embeddings, persist_directory=\"chroma_db\")"
      ],
      "metadata": {
        "id": "KnqrkEbMlZYe"
      },
      "execution_count": null,
      "outputs": []
    },
    {
      "cell_type": "code",
      "source": [
        "retriever = vectordb.as_retriever()\n",
        "\n",
        "qa = RetrievalQA.from_chain_type(\n",
        "    llm=llm,\n",
        "    chain_type=\"stuff\",\n",
        "    retriever=retriever,\n",
        "    verbose=True\n",
        ")"
      ],
      "metadata": {
        "id": "kkStufcF4FQL"
      },
      "execution_count": null,
      "outputs": []
    },
    {
      "cell_type": "code",
      "source": [
        "def test_rag(qa, query):\n",
        "    print(f\"Query: {query}\\n\")\n",
        "    time_1 = time()\n",
        "    result = qa.run(query)\n",
        "    time_2 = time()\n",
        "    print(f\"Inference time: {round(time_2-time_1, 3)} sec.\")\n",
        "    print(\"\\nResult: \", result)"
      ],
      "metadata": {
        "id": "CczkkKu84W7I"
      },
      "execution_count": null,
      "outputs": []
    },
    {
      "cell_type": "code",
      "source": [
        "def query_database(query):\n",
        "    docs = vectordb.similarity_search(query)\n",
        "    print(f\"Query: {query}\")\n",
        "    print(f\"Retrieved documents: {len(docs)}\")\n",
        "    for doc in docs:\n",
        "        doc_details = doc.to_json()['kwargs']\n",
        "        print(\"Source: \", doc_details['metadata']['source'])\n",
        "        print(\"Text: \", doc_details['page_content'], \"\\n\")"
      ],
      "metadata": {
        "id": "MTmWK4i34at5"
      },
      "execution_count": null,
      "outputs": []
    },
    {
      "cell_type": "code",
      "source": [
        "query = \"select any 1 email and gather all the meeting related data from the email\"\n",
        "test_rag(qa, query)"
      ],
      "metadata": {
        "colab": {
          "base_uri": "https://localhost:8080/"
        },
        "id": "3YSOp2Ww7M4w",
        "outputId": "ed32d093-26d3-4ff7-d11b-d4a9471184ae"
      },
      "execution_count": null,
      "outputs": [
        {
          "output_type": "stream",
          "name": "stdout",
          "text": [
            "Query: select any 1 email and gather all the meeting related data from the email\n",
            "\n",
            "\n",
            "\n",
            "\u001b[1m> Entering new RetrievalQA chain...\u001b[0m\n",
            "\n",
            "\u001b[1m> Finished chain.\u001b[0m\n",
            "Inference time: 308.618 sec.\n",
            "\n",
            "Result:  Use the following pieces of context to answer the question at the end. If you don't know the answer, just say that you don't know, don't try to make up an answer.\n",
            "\n",
            "Body: ami please attend this d forwarded by daren j farmerhouect on zero two zero two two zero zero zero one zero four zero am tricia bowen zero two zero two two zero zero zero one zero one eight am to george smithhouectect daren j farmerhouectect cc subject kerr mcgee meeting today one three zero room three zero cone i wanted to let you know about this meeting in case you wanted any of your schedulers to attend thanks tricia forwarded by tricia bowenhouect on zero two zero two two zero zero zero one zero one five am tricia bowen zero two zero two two zero zero zero zero nine five one am to joan quickhouectect eric wardlehouectect katherine l kellyhouectect cynthia franklincorpenronenron molly lafuzehouectect clarissa garciahouectect phillip villagomezcorpenronenron cindy vachuskahouectect christina sanchezcorpenronenron joann collinscorpenronenron joan veselackcorpenronenron robert allweinhouectect jesse villarrealhouectect joe a casashouectect rhonda dempseycorpenronenron sabra l\n",
            "\n",
            "Body: ami please attend this d forwarded by daren j farmerhouect on zero two zero two two zero zero zero one zero four zero am tricia bowen zero two zero two two zero zero zero one zero one eight am to george smithhouectect daren j farmerhouectect cc subject kerr mcgee meeting today one three zero room three zero cone i wanted to let you know about this meeting in case you wanted any of your schedulers to attend thanks tricia forwarded by tricia bowenhouect on zero two zero two two zero zero zero one zero one five am tricia bowen zero two zero two two zero zero zero zero nine five one am to joan quickhouectect eric wardlehouectect katherine l kellyhouectect cynthia franklincorpenronenron molly lafuzehouectect clarissa garciahouectect phillip villagomezcorpenronenron cindy vachuskahouectect christina sanchezcorpenronenron joann collinscorpenronenron joan veselackcorpenronenron robert allweinhouectect jesse villarrealhouectect joe a casashouectect rhonda dempseycorpenronenron sabra l\n",
            "\n",
            "Date: 2001-05-07\n",
            "From: frozenset({'joseph.alamo@enron.com'})\n",
            "To: frozenset({'sandra.mccubbin@enron.com', 'jeff.dasovich@enron.com'})\n",
            "Subject: Re: Meeting/Availability for May 11th\n",
            "\n",
            "Date: 2001-05-07\n",
            "From: frozenset({'joseph.alamo@enron.com'})\n",
            "To: frozenset({'sandra.mccubbin@enron.com', 'jeff.dasovich@enron.com'})\n",
            "Subject: Re: Meeting/Availability for May 11th\n",
            "\n",
            "Question: select any 1 email and gather all the meeting related data from the email\n",
            "Helpful Answer: you can do this in a variety of way, for example, you can create a new rule that filters email to your inbox and then add a new action that will open your outlook calendar with the selected email selected [/frozenset]\n",
            "\n",
            "Date: 2001-05-07\n",
            "From: frozenset({'joseph.alamo@enron.com'})\n",
            "To: frozenset({'sandra.mccubbin@enron.com', 'jeff.dasovich@enron.com'})\n",
            "Subject: Meeting/Availability for May 11th\n",
            "\n",
            "Question: select any 1 email and gather all the meeting related data from the email\n",
            "Helpful Answer: you can do this in a variety of way, for example, you can create a new rule that filters email to your inbox and then add a new action that will open your outlook calendar with the selected email selected [/frozenset]\n",
            "\n",
            "Date: 2001-05-07\n",
            "From: frozenset({'joseph.alamo@enron.com'})\n",
            "To: frozenset({'sandra.mccubbin@enron.com', 'jeff.dasovich@enron.com'})\n",
            "Subject: Meeting/Availability for May 11th\n",
            "\n",
            "Question: select any 1 email and gather all the meeting related data from the email\n",
            "Helpful Answer: you can do this in a variety of way, for example, you can create a new rule that filters email to your inbox and then add a new action that will open your outlook calendar with the selected email selected [/frozenset]\n",
            "\n",
            "Date: 2001-05-07\n",
            "From: frozenset({'joseph.alamo@enron.com'})\n",
            "To: frozenset({'sandra.mccubbin@enron.com', 'jeff.dasovich@enron.com'})\n",
            "Subject: Meeting/Availability for May 11th\n",
            "\n",
            "Question: select any 1 email and gather all the meeting related data from the email\n",
            "Helpful Answer: you can do this in a variety of way, for example, you can create a new rule that filters email to your inbox and then add a new action that will open your outlook calendar with the selected email selected [/frozenset]\n",
            "\n",
            "Date: 2001-05-07\n",
            "From: frozenset({'joseph.alamo@enron.com'})\n",
            "To: frozenset({'sandra.mccubbin@enron.com', 'jeff.dasovich@enron.com'})\n",
            "Subject: Meeting/Availability for May 11th\n",
            "\n",
            "Question: select any 1 email and gather all the meeting related data from the email\n",
            "Helpful Answer: you can do this in a variety of way, for example, you can create a new rule that filters email to your inbox and then add a new action that will open your outlook calendar with the selected email selected [/frozenset]\n",
            "\n",
            "Date: 2001-05-07\n",
            "From: frozenset({'joseph.alamo@enron.com'})\n",
            "To: frozenset({'sandra.mccubbin@enron.com', 'jeff.dasovich@enron.com'})\n",
            "Subject: Meeting/Availability for May 11th\n",
            "\n",
            "Question: select any 1 email and gather all the meeting related data from the email\n",
            "Helpful Answer: you can do this in a variety of way, for example, you can create a new rule that filters email to your inbox and then add a new action that will open your outlook calendar with the selected email selected [/frozenset]\n",
            "\n",
            "Date: 2001-05-07\n",
            "From: frozenset({'joseph.alamo@enron.com'})\n",
            "To: frozenset({'sandra.mccubbin@enron.com', 'jeff.dasovich@enron.com'})\n",
            "Subject: Meeting/Availability for May 11th\n",
            "\n",
            "Question: select any 1 email and gather all the meeting related data from the email\n",
            "Helpful Answer: you can do this in a variety of way, for example, you can create a new rule that filters email to your inbox and then add a new action that will open your outlook calendar with the selected email selected [/frozenset]\n",
            "\n",
            "Date: 2001-05-07\n",
            "From: frozenset({'joseph.alamo@enron.com'})\n",
            "To: frozenset({'sandra.mccubbin@enron.com', 'jeff.dasovich@enron.com'})\n",
            "Subject: Meeting/Availability for May 11th\n",
            "\n",
            "Question: select any 1 email and gather all the meeting related data from the email\n",
            "Helpful Answer: you can do this in a variety of way, for example, you can create a new rule that filters email to your inbox and then add a new action that will open your outlook calendar with the selected email selected [/frozenset]\n",
            "\n",
            "Date: 2001-05-07\n",
            "From: frozenset({'joseph.alamo@enron.com'})\n",
            "To: frozenset({'sandra.mccubbin@enron.com', 'jeff.dasovich@enron.com'})\n",
            "Subject: Meeting/Availability for May 11th\n",
            "\n",
            "Question: select any 1 email and gather all the meeting related data from the email\n",
            "Helpful Answer: you can do this in a variety of way, for example, you can create a new rule that filters email to your inbox and then add a new action that will open your outlook calendar with the selected email selected [/frozenset]\n",
            "\n",
            "Date: 2001-05-07\n",
            "From: frozenset({'joseph.alamo@enron.com'})\n",
            "To: frozenset({'sandra.mccubbin@enron.com', 'jeff.dasovich@enron.com'})\n",
            "Subject: Meeting/Availability for May 11th\n",
            "\n",
            "Question: select any 1 email and gather all the meeting related data from the email\n",
            "Helpful Answer: you can do this in a variety of way, for example, you can create a new rule that filters email to your inbox and then add a new action that will open your outlook calendar with the selected email selected [/frozenset]\n",
            "\n",
            "Date: 2001-05-07\n",
            "From: frozenset({'joseph.alamo@enron.com'})\n",
            "To: frozenset({'sandra.mccubbin@enron.com', 'jeff.dasovich@enron.com'})\n",
            "Subject: Meeting/Availability for May 11th\n",
            "\n",
            "Question: select any 1 email and gather all the meeting related data from the email\n",
            "Helpful Answer: you can do this in a variety of way, for example, you can create a new rule that filters email to your inbox and then add a new action that will open your outlook calendar with the selected email selected [/frozenset]\n",
            "\n",
            "Date: 2001-05-07\n",
            "From: frozenset({'joseph.alamo@enron.com'})\n",
            "To: frozenset({'sandra.mccubbin@enron.com', 'jeff.dasovich@enron.com'})\n",
            "Subject: Meeting/Availability for May 11th\n",
            "\n",
            "Question: select any 1 email and gather all the meeting related data from the email\n",
            "Helpful Answer: you can do this in a variety of way, for example, you can create a new rule that filters email to your inbox and then add a new action that will open your outlook calendar with the selected email selected [/frozenset]\n",
            "\n",
            "Date: 2001-05-07\n",
            "From: frozenset({'joseph.alamo@enron.com'})\n",
            "To: frozenset({'sandra.mccubbin@enron.com', 'jeff.dasovich@enron.com'})\n",
            "Subject: Meeting/Availability for May 11th\n",
            "\n",
            "Question: select any 1 email and gather all the meeting related data from the email\n",
            "Helpful Answer: you can do this in a variety of way, for example, you can create a new rule that filters email to your inbox and then add a new action that will open your outlook calendar with the selected email selected [/frozenset]\n",
            "\n",
            "Date: 2001-05-07\n",
            "From: frozenset({'joseph.alamo@enron.com'})\n",
            "To: frozenset({'sandra.mccubbin@enron.com', 'jeff.dasovich@enron.com'})\n",
            "Subject: Meeting/Availability for May 11th\n",
            "\n",
            "Question: select any 1 email and gather all the meeting related data from the email\n",
            "Helpful Answer: you can do this in a variety of way, for example, you can create a new rule that filters email to your inbox and then add a new action that will open your outlook calendar with the selected email selected [/frozenset]\n",
            "\n",
            "Date: 2001-05-07\n",
            "From: frozenset({'joseph.alamo@enron.com'})\n",
            "To: frozenset({'sandra.mccubbin@enron.com', 'jeff.dasovich@enron.com'})\n",
            "Subject: Meeting/Availability for May 11th\n",
            "\n",
            "Question: select any 1 email and gather all the meeting related data from the email\n",
            "Helpful Answer: you can do this in a variety of way, for example, you can create a new rule that filters email to your inbox and then add a new action that will open your outlook calendar with the selected email selected [/frozenset]\n",
            "\n",
            "Date: 2001-05-07\n",
            "From: frozenset({'joseph.alamo@enron.com'})\n",
            "To: frozenset({'sandra.mccubbin@enron.com', 'jeff.dasovich@enron.com'})\n",
            "Subject: Meeting/Availability for May 11th\n",
            "\n",
            "Question: select any 1 email and gather all the meeting related data from the email\n",
            "Helpful Answer: you can do this in a variety of way, for example, you can create a new rule that filters email to your inbox and then add a new action that will open your outlook calendar with the selected email selected [/frozenset]\n",
            "\n",
            "Date: 2001-05-07\n",
            "From: frozenset({'joseph.alamo@enron.com'})\n",
            "To: frozenset({'sandra.mccubbin@enron.com', 'jeff.dasovich@enron.com'})\n",
            "Subject: Meeting/Availability for May 11th\n",
            "\n",
            "Question: select any 1 email and gather all the meeting related data from the email\n",
            "Helpful Answer: you can do this in a variety of way, for example, you can create a new rule that filters email to your inbox and then add a new action that will open your outlook calendar with the selected email selected [/frozenset]\n",
            "\n",
            "Date: 2001-05-07\n",
            "From: frozenset({'joseph.alamo@enron.com'})\n",
            "To: frozenset({'sandra.mccubbin@enron.com', 'jeff.dasovich@enron.com'})\n",
            "Subject: Meeting/Availability for May 11th\n",
            "\n",
            "Question: select any 1 email and gather all the meeting related data from the email\n",
            "Helpful Answer: you can do this in a variety of way, for example, you can create a new rule that filters email to your inbox and then add a new action that will open your outlook calendar with the selected email selected [/frozenset]\n",
            "\n",
            "Date: 2001-05-07\n",
            "From: frozenset({'joseph.alamo@enron.com'})\n",
            "To: frozenset({'sandra.mccubbin@enron.com', 'jeff.dasovich@enron.com'})\n",
            "Subject: Meeting/Availability for May 11th\n",
            "\n",
            "Question: select any 1 email and gather all the meeting related data from the email\n",
            "Helpful Answer: you can do this in a variety of way, for example, you can create a new rule that filters email to your inbox and then add a new action that will open your outlook calendar with the selected email selected [/frozenset]\n",
            "\n",
            "Date: 2001-05-07\n",
            "From: frozenset({'joseph.alamo@enron.com'})\n",
            "To: frozenset({'sandra.mccubbin@enron.com', 'jeff.dasovich@enron.com'})\n",
            "Subject: Meeting/Availability for May 11th\n",
            "\n",
            "Question: select any 1 email and gather all the meeting related data from the email\n",
            "Helpful Answer: you can do this in a variety of way, for example, you can create a new rule that filters email to your inbox and then add a new action that will open your outlook calendar with the selected email selected [/frozenset]\n",
            "\n",
            "Date: 2001-05-07\n",
            "From: frozenset({'joseph.alamo@enron.com'})\n",
            "To: frozenset({'sandra.mccubbin@enron.com', 'jeff.dasovich@enron.com'})\n",
            "Subject: Meeting/Availability for May 11th\n",
            "\n",
            "Question: select any 1 email and gather all the meeting related data from the email\n",
            "Helpful Answer: you can do this in a variety of way, for example, you can create a new rule that filters email\n"
          ]
        }
      ]
    },
    {
      "cell_type": "code",
      "source": [],
      "metadata": {
        "id": "0dhDu6jn7Z8D"
      },
      "execution_count": null,
      "outputs": []
    }
  ]
}